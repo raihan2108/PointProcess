{
 "cells": [
  {
   "cell_type": "code",
   "execution_count": 1,
   "metadata": {
    "collapsed": true
   },
   "outputs": [],
   "source": [
    "%matplotlib inline"
   ]
  },
  {
   "cell_type": "code",
   "execution_count": 2,
   "metadata": {
    "collapsed": false
   },
   "outputs": [
    {
     "name": "stdout",
     "output_type": "stream",
     "text": [
      "/home/sathappan/workspace/time2event/src\n"
     ]
    }
   ],
   "source": [
    "cd /home/sathappan/workspace/time2event/src/"
   ]
  },
  {
   "cell_type": "code",
   "execution_count": 9,
   "metadata": {
    "collapsed": false
   },
   "outputs": [],
   "source": [
    "#from PointProcess.hawkes import UniVariateHawkes\n",
    "import pandas as pd\n",
    "import gzip\n",
    "import numpy as np\n",
    "from scipy.optimize import minimize\n",
    "from datetime import timedelta\n",
    "import tensorflow as tf\n",
    "import json\n",
    "from datetime import timedelta"
   ]
  },
  {
   "cell_type": "code",
   "execution_count": 11,
   "metadata": {
    "collapsed": false
   },
   "outputs": [],
   "source": [
    "with gzip.open(\"/Users/nikhil/phd/urban_computing/datasets/wmata/wmata_2015_2016/user_timeseries_sorted_100.gz\" ) as inf:\n",
    "    cnt = 0\n",
    "    d2 = []\n",
    "    import json\n",
    "    from dateutil.parser import parse\n",
    "    for i in inf:\n",
    "        d2.append([parse(dt) for dt in json.loads(i.decode('utf-8'))['arrivalTimes']])\n",
    "        cnt += 1\n",
    "        if cnt > 100:\n",
    "            break"
   ]
  },
  {
   "cell_type": "code",
   "execution_count": 12,
   "metadata": {
    "collapsed": true
   },
   "outputs": [],
   "source": [
    "dframe = pd.DataFrame(d2)"
   ]
  },
  {
   "cell_type": "code",
   "execution_count": 13,
   "metadata": {
    "collapsed": false
   },
   "outputs": [
    {
     "data": {
      "text/html": [
       "<div>\n",
       "<table border=\"1\" class=\"dataframe\">\n",
       "  <thead>\n",
       "    <tr style=\"text-align: right;\">\n",
       "      <th></th>\n",
       "      <th>0</th>\n",
       "      <th>1</th>\n",
       "      <th>2</th>\n",
       "      <th>3</th>\n",
       "      <th>4</th>\n",
       "      <th>5</th>\n",
       "      <th>6</th>\n",
       "      <th>7</th>\n",
       "      <th>8</th>\n",
       "      <th>9</th>\n",
       "      <th>...</th>\n",
       "      <th>1530</th>\n",
       "      <th>1531</th>\n",
       "      <th>1532</th>\n",
       "      <th>1533</th>\n",
       "      <th>1534</th>\n",
       "      <th>1535</th>\n",
       "      <th>1536</th>\n",
       "      <th>1537</th>\n",
       "      <th>1538</th>\n",
       "      <th>1539</th>\n",
       "    </tr>\n",
       "  </thead>\n",
       "  <tbody>\n",
       "    <tr>\n",
       "      <th>0</th>\n",
       "      <td>2015-01-03 18:58:04</td>\n",
       "      <td>2015-01-12 08:13:55</td>\n",
       "      <td>2015-01-13 08:20:31</td>\n",
       "      <td>2015-01-13 17:29:05</td>\n",
       "      <td>2015-01-14 08:16:17</td>\n",
       "      <td>2015-01-15 08:41:52</td>\n",
       "      <td>2015-01-15 09:21:01</td>\n",
       "      <td>2015-01-16 07:23:52</td>\n",
       "      <td>2015-01-16 11:27:28</td>\n",
       "      <td>2015-01-19 13:17:17</td>\n",
       "      <td>...</td>\n",
       "      <td>NaN</td>\n",
       "      <td>NaN</td>\n",
       "      <td>NaN</td>\n",
       "      <td>NaN</td>\n",
       "      <td>NaN</td>\n",
       "      <td>NaN</td>\n",
       "      <td>NaN</td>\n",
       "      <td>NaN</td>\n",
       "      <td>NaN</td>\n",
       "      <td>NaN</td>\n",
       "    </tr>\n",
       "    <tr>\n",
       "      <th>1</th>\n",
       "      <td>2015-01-05 08:44:57</td>\n",
       "      <td>2015-01-05 18:23:28</td>\n",
       "      <td>2015-01-06 08:48:43</td>\n",
       "      <td>2015-01-06 18:29:40</td>\n",
       "      <td>2015-01-07 10:04:20</td>\n",
       "      <td>2015-01-07 18:17:57</td>\n",
       "      <td>2015-01-08 08:47:50</td>\n",
       "      <td>2015-01-08 19:22:42</td>\n",
       "      <td>2015-01-09 08:47:20</td>\n",
       "      <td>2015-01-12 10:46:28</td>\n",
       "      <td>...</td>\n",
       "      <td>NaN</td>\n",
       "      <td>NaN</td>\n",
       "      <td>NaN</td>\n",
       "      <td>NaN</td>\n",
       "      <td>NaN</td>\n",
       "      <td>NaN</td>\n",
       "      <td>NaN</td>\n",
       "      <td>NaN</td>\n",
       "      <td>NaN</td>\n",
       "      <td>NaN</td>\n",
       "    </tr>\n",
       "    <tr>\n",
       "      <th>2</th>\n",
       "      <td>2015-01-05 06:34:05</td>\n",
       "      <td>2015-01-05 17:02:29</td>\n",
       "      <td>2015-01-06 06:44:42</td>\n",
       "      <td>2015-01-06 17:04:40</td>\n",
       "      <td>2015-01-07 06:34:28</td>\n",
       "      <td>2015-01-07 17:02:43</td>\n",
       "      <td>2015-01-08 09:12:58</td>\n",
       "      <td>2015-01-08 17:02:58</td>\n",
       "      <td>2015-01-09 06:35:18</td>\n",
       "      <td>2015-01-09 17:02:37</td>\n",
       "      <td>...</td>\n",
       "      <td>NaN</td>\n",
       "      <td>NaN</td>\n",
       "      <td>NaN</td>\n",
       "      <td>NaN</td>\n",
       "      <td>NaN</td>\n",
       "      <td>NaN</td>\n",
       "      <td>NaN</td>\n",
       "      <td>NaN</td>\n",
       "      <td>NaN</td>\n",
       "      <td>NaN</td>\n",
       "    </tr>\n",
       "    <tr>\n",
       "      <th>3</th>\n",
       "      <td>2015-01-05 06:51:04</td>\n",
       "      <td>2015-01-05 16:33:38</td>\n",
       "      <td>2015-01-07 06:51:18</td>\n",
       "      <td>2015-01-07 16:36:55</td>\n",
       "      <td>2015-01-08 06:56:46</td>\n",
       "      <td>2015-01-08 16:36:12</td>\n",
       "      <td>2015-01-09 06:47:21</td>\n",
       "      <td>2015-01-09 16:31:46</td>\n",
       "      <td>2015-01-12 08:57:45</td>\n",
       "      <td>2015-01-12 16:35:51</td>\n",
       "      <td>...</td>\n",
       "      <td>NaN</td>\n",
       "      <td>NaN</td>\n",
       "      <td>NaN</td>\n",
       "      <td>NaN</td>\n",
       "      <td>NaN</td>\n",
       "      <td>NaN</td>\n",
       "      <td>NaN</td>\n",
       "      <td>NaN</td>\n",
       "      <td>NaN</td>\n",
       "      <td>NaN</td>\n",
       "    </tr>\n",
       "    <tr>\n",
       "      <th>4</th>\n",
       "      <td>2015-01-05 08:41:21</td>\n",
       "      <td>2015-01-05 18:25:38</td>\n",
       "      <td>2015-01-06 08:47:17</td>\n",
       "      <td>2015-01-06 17:32:12</td>\n",
       "      <td>2015-01-07 08:51:45</td>\n",
       "      <td>2015-01-07 18:04:10</td>\n",
       "      <td>2015-01-08 08:45:07</td>\n",
       "      <td>2015-01-08 18:01:10</td>\n",
       "      <td>2015-01-09 08:56:27</td>\n",
       "      <td>2015-01-09 18:28:55</td>\n",
       "      <td>...</td>\n",
       "      <td>NaN</td>\n",
       "      <td>NaN</td>\n",
       "      <td>NaN</td>\n",
       "      <td>NaN</td>\n",
       "      <td>NaN</td>\n",
       "      <td>NaN</td>\n",
       "      <td>NaN</td>\n",
       "      <td>NaN</td>\n",
       "      <td>NaN</td>\n",
       "      <td>NaN</td>\n",
       "    </tr>\n",
       "  </tbody>\n",
       "</table>\n",
       "<p>5 rows × 1540 columns</p>\n",
       "</div>"
      ],
      "text/plain": [
       "                 0                   1                   2     \\\n",
       "0 2015-01-03 18:58:04 2015-01-12 08:13:55 2015-01-13 08:20:31   \n",
       "1 2015-01-05 08:44:57 2015-01-05 18:23:28 2015-01-06 08:48:43   \n",
       "2 2015-01-05 06:34:05 2015-01-05 17:02:29 2015-01-06 06:44:42   \n",
       "3 2015-01-05 06:51:04 2015-01-05 16:33:38 2015-01-07 06:51:18   \n",
       "4 2015-01-05 08:41:21 2015-01-05 18:25:38 2015-01-06 08:47:17   \n",
       "\n",
       "                 3                   4                   5     \\\n",
       "0 2015-01-13 17:29:05 2015-01-14 08:16:17 2015-01-15 08:41:52   \n",
       "1 2015-01-06 18:29:40 2015-01-07 10:04:20 2015-01-07 18:17:57   \n",
       "2 2015-01-06 17:04:40 2015-01-07 06:34:28 2015-01-07 17:02:43   \n",
       "3 2015-01-07 16:36:55 2015-01-08 06:56:46 2015-01-08 16:36:12   \n",
       "4 2015-01-06 17:32:12 2015-01-07 08:51:45 2015-01-07 18:04:10   \n",
       "\n",
       "                 6                   7                   8     \\\n",
       "0 2015-01-15 09:21:01 2015-01-16 07:23:52 2015-01-16 11:27:28   \n",
       "1 2015-01-08 08:47:50 2015-01-08 19:22:42 2015-01-09 08:47:20   \n",
       "2 2015-01-08 09:12:58 2015-01-08 17:02:58 2015-01-09 06:35:18   \n",
       "3 2015-01-09 06:47:21 2015-01-09 16:31:46 2015-01-12 08:57:45   \n",
       "4 2015-01-08 08:45:07 2015-01-08 18:01:10 2015-01-09 08:56:27   \n",
       "\n",
       "                 9    ...  1530 1531 1532 1533 1534 1535 1536 1537 1538 1539  \n",
       "0 2015-01-19 13:17:17 ...   NaN  NaN  NaN  NaN  NaN  NaN  NaN  NaN  NaN  NaN  \n",
       "1 2015-01-12 10:46:28 ...   NaN  NaN  NaN  NaN  NaN  NaN  NaN  NaN  NaN  NaN  \n",
       "2 2015-01-09 17:02:37 ...   NaN  NaN  NaN  NaN  NaN  NaN  NaN  NaN  NaN  NaN  \n",
       "3 2015-01-12 16:35:51 ...   NaN  NaN  NaN  NaN  NaN  NaN  NaN  NaN  NaN  NaN  \n",
       "4 2015-01-09 18:28:55 ...   NaN  NaN  NaN  NaN  NaN  NaN  NaN  NaN  NaN  NaN  \n",
       "\n",
       "[5 rows x 1540 columns]"
      ]
     },
     "execution_count": 13,
     "metadata": {},
     "output_type": "execute_result"
    }
   ],
   "source": [
    "dframe.head()"
   ]
  },
  {
   "cell_type": "code",
   "execution_count": 6,
   "metadata": {
    "collapsed": true
   },
   "outputs": [],
   "source": [
    "dframe.columns = [str(l) for l in range(0, 1540)]\n",
    "names = [str(l) for l in range(0, 1540)]\n",
    "#df['newcol'] = df[['col1','col2']].sum(axis=1) - df['col5']\n",
    "#df[['newcol', 'col3']].sub(df['col5'], axis=0)\n",
    "arrivals = dframe[names[:400]].sub(dframe[\"0\"], axis=0)\n",
    "mask = ~(arrivals.isnull()).as_matrix()\n",
    "arrivals_numpy = np.nan_to_num(arrivals.applymap(lambda x: x/np.timedelta64(1, '1D')).as_matrix())\n"
   ]
  },
  {
   "cell_type": "code",
   "execution_count": 7,
   "metadata": {
    "collapsed": true
   },
   "outputs": [],
   "source": [
    "def calc_Ai(arrivals, mask, beta):\n",
    "    tdiff = np.diff(arrivals) * mask[:, 1:]\n",
    "    tdiff = np.exp(tdiff * -beta)\n",
    "    A_i = np.zeros_like(arrivals, dtype=np.float128)\n",
    "    for i in range(tdiff.shape[1]):\n",
    "        #print(i,)\n",
    "        A_i[:, i + 1] = tdiff[:, i] * (1 + A_i[:, i])\n",
    "    return A_i, tdiff"
   ]
  },
  {
   "cell_type": "code",
   "execution_count": 9,
   "metadata": {
    "collapsed": true
   },
   "outputs": [],
   "source": [
    "A_i, tempdiff = calc_Ai(arrivals_numpy, mask, 1.0)"
   ]
  },
  {
   "cell_type": "code",
   "execution_count": null,
   "metadata": {
    "collapsed": true
   },
   "outputs": [],
   "source": []
  },
  {
   "cell_type": "markdown",
   "metadata": {},
   "source": [
    "#### Tensorflow fitting"
   ]
  },
  {
   "cell_type": "code",
   "execution_count": 100,
   "metadata": {
    "collapsed": true
   },
   "outputs": [],
   "source": [
    "def loglikelihood():\n",
    "    #tdiff = diff(arrivals) * mask[:, 1:]\n",
    "    #A_i = tf.zeros_like(arrivals)\n",
    "    #for i in range(tdiff.shape[0]):\n",
    "    #    A_i[:, i + 1] = tdiff[:, i] * (1 + A[:, i ])\n",
    "    part1 = tf.reduce_sum(tf.log(mu + alpha * ais_tvar), axis=1)[:, None]\n",
    "    T_max = tf.reduce_max(arrivals_tvar*mask_tvar, axis=1)[:, None]\n",
    "    part2 = mu * T_max\n",
    "    p3_tmp = tf.reduce_sum(tf.exp(-beta * ((T_max - arrivals_tvar)*mask_tvar)) - tf.constant(1.0, dtype=tf.float64), axis=1)\n",
    "    part3 = (alpha / beta)* p3_tmp[:, None]\n",
    "    \n",
    "    #return part1, part2, part3, p3_tmp\n",
    "    return -1*tf.reduce_sum(part1 - part2 + part3)"
   ]
  },
  {
   "cell_type": "code",
   "execution_count": 101,
   "metadata": {
    "collapsed": true
   },
   "outputs": [],
   "source": [
    "## Assuming number of users is 32\n",
    "num_users = 101\n",
    "\n",
    "## All parameters are column vectors with size equal to number of users\n",
    "\n",
    "alpha = tf.Variable(tf.ones([num_users, 1], dtype=tf.float64), dtype=tf.float64)\n",
    "beta = tf.Variable(tf.ones([num_users, 1], dtype=tf.float64), dtype=tf.float64)\n",
    "mu = tf.Variable(tf.ones([num_users, 1], dtype=tf.float64), dtype=tf.float64)\n"
   ]
  },
  {
   "cell_type": "code",
   "execution_count": 102,
   "metadata": {
    "collapsed": true
   },
   "outputs": [],
   "source": [
    "T_max = 400\n",
    "arrivals_tvar = tf.placeholder(tf.float64, [None, T_max])\n",
    "mask_tvar = tf.placeholder(tf.float64, [None, T_max])\n",
    "ais_tvar = tf.placeholder(tf.float64,[None, T_max])\n",
    "tdiff_tvar = tf.placeholder(tf.float64, [None, T_max-1])\n",
    "p3 = loglikelihood()\n",
    "grad = tf.gradients(p3, [alpha, beta, mu])\n",
    "optim = tf.train.GradientDescentOptimizer(0.01).minimize(p3)\n",
    "#p1, p2, p3 = loglikelihood()"
   ]
  },
  {
   "cell_type": "code",
   "execution_count": 103,
   "metadata": {
    "collapsed": true
   },
   "outputs": [],
   "source": [
    "init = tf.global_variables_initializer()\n",
    "with tf.Session() as sess:\n",
    "    sess.run(init)\n",
    "    tf_a = (sess.run([p3, optim], feed_dict={arrivals_tvar: np.nan_to_num(arrivals_numpy), mask_tvar:mask, ais_tvar:A_i, tdiff_tvar: tempdiff}))\n",
    "    #tf_a, tf_b, tf_c, tf_d = (sess.run(p3, feed_dict={arrivals_tvar: np.nan_to_num(arrivals_numpy), mask_tvar:mask, ais_tvar:A_i, tdiff_tvar: tempdiff}))"
   ]
  },
  {
   "cell_type": "code",
   "execution_count": 104,
   "metadata": {
    "collapsed": false
   },
   "outputs": [
    {
     "data": {
      "text/plain": [
       "[40826.057238954279, None]"
      ]
     },
     "execution_count": 104,
     "metadata": {},
     "output_type": "execute_result"
    }
   ],
   "source": [
    "tf_a"
   ]
  },
  {
   "cell_type": "code",
   "execution_count": 68,
   "metadata": {
    "collapsed": false
   },
   "outputs": [
    {
     "data": {
      "text/plain": [
       "(101, 1)"
      ]
     },
     "execution_count": 68,
     "metadata": {},
     "output_type": "execute_result"
    }
   ],
   "source": [
    "tf_b.shape"
   ]
  },
  {
   "cell_type": "code",
   "execution_count": 69,
   "metadata": {
    "collapsed": false
   },
   "outputs": [
    {
     "data": {
      "text/plain": [
       "(101,)"
      ]
     },
     "execution_count": 69,
     "metadata": {},
     "output_type": "execute_result"
    }
   ],
   "source": [
    "\n",
    "tf_d.shape"
   ]
  },
  {
   "cell_type": "code",
   "execution_count": 70,
   "metadata": {
    "collapsed": false
   },
   "outputs": [
    {
     "data": {
      "text/plain": [
       "(101,)"
      ]
     },
     "execution_count": 70,
     "metadata": {},
     "output_type": "execute_result"
    }
   ],
   "source": [
    "tf_d.shape"
   ]
  },
  {
   "cell_type": "code",
   "execution_count": 78,
   "metadata": {
    "collapsed": false
   },
   "outputs": [
    {
     "data": {
      "text/plain": [
       "array([-57.18139879])"
      ]
     },
     "execution_count": 78,
     "metadata": {},
     "output_type": "execute_result"
    }
   ],
   "source": [
    "tf_a[14]"
   ]
  },
  {
   "cell_type": "code",
   "execution_count": 92,
   "metadata": {
    "collapsed": false
   },
   "outputs": [
    {
     "data": {
      "text/plain": [
       "-40826.057238954279"
      ]
     },
     "execution_count": 92,
     "metadata": {},
     "output_type": "execute_result"
    }
   ],
   "source": [
    "\n",
    "tf_a[0].sum()"
   ]
  },
  {
   "cell_type": "code",
   "execution_count": null,
   "metadata": {
    "collapsed": true
   },
   "outputs": [],
   "source": []
  }
 ],
 "metadata": {
  "kernelspec": {
   "display_name": "Python 3",
   "language": "python",
   "name": "python3"
  },
  "language_info": {
   "codemirror_mode": {
    "name": "ipython",
    "version": 3
   },
   "file_extension": ".py",
   "mimetype": "text/x-python",
   "name": "python",
   "nbconvert_exporter": "python",
   "pygments_lexer": "ipython3",
   "version": "3.5.2"
  },
  "latex_envs": {
   "bibliofile": "biblio.bib",
   "cite_by": "apalike",
   "current_citInitial": 1,
   "eqLabelWithNumbers": true,
   "eqNumInitial": 0
  }
 },
 "nbformat": 4,
 "nbformat_minor": 2
}
