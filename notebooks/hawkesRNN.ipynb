{
 "cells": [
  {
   "cell_type": "code",
   "execution_count": 1,
   "metadata": {
    "collapsed": true
   },
   "outputs": [],
   "source": [
    "%matplotlib inline"
   ]
  },
  {
   "cell_type": "code",
   "execution_count": 2,
   "metadata": {
    "collapsed": true
   },
   "outputs": [],
   "source": [
    "import tensorflow as tf"
   ]
  },
  {
   "cell_type": "code",
   "execution_count": 1,
   "metadata": {
    "collapsed": true
   },
   "outputs": [],
   "source": [
    "class UniVariateHawkesRNN(object):\n",
    "    def __init___(self, hidden_dim):\n",
    "        \"\"\"\n",
    "        Init class for univariate hawkes\n",
    "        Params:\n",
    "            hidden_dim - size of hidden layer \n",
    "        \"\"\"\n",
    "        self.Ui, self.Wh, self.Bh = self._create_hidden_weights()\n",
    "        self.input_ts = tf.placeholder(shape=(None, None), dtype=tf.float64, name='delta_ti')\n",
    "        self.output_rate = tf.placeholder(shape=(None, None), dtype=tf.float64, name='rate')\n",
    "        self.init_state = tf.zeros((hidden_dim, 1), dtype=tf.float64, name=\"h0\")\n",
    "    \n",
    "    def _create_hidden_weights(self):\n",
    "        # input transformation\n",
    "        Ui = tf.get_variable(\"Ui\", shape=(self.hidden_dim, None), dtype=tf.float64, \n",
    "                            initializer=tf.contrib.layers.xavier_initializer(dtype=tf.float64))\n",
    "        Wh = tf.get_variable(\"Wh\", shape=(self.hidden_dim, hidden_dim), dtype=tf.float64, \n",
    "                    initializer=tf.contrib.layers.xavier_initializer(dtype=tf.float64))\n",
    "        Bh = tf.get_variable(\"Bh\", shape=(self.hidden_dim, 1), dtype=tf.float64, \n",
    "                    initializer=tf.contrib.layers.xavier_initializer(dtype=tf.float64))\n",
    "        Vo = tf.get_variable(\"Vo\", shape=(self.hidden_dim, 1), dtype=tf.float64,\n",
    "                             initializer=tf.contrib.layers.xavier_initializer(dtype=tf.float64))\n",
    "        wo = tf.get_variable(\"wo\", shape=(1,1), dtype=tf.float64, \n",
    "                             initializer=tf.contrib.layers.xavier_initializer(dtype = tf.float64))\n",
    "        return Ui, Wh, Bh\n",
    "    \n",
    "    def transform_input2hidden(self, x):\n",
    "        pass\n",
    "    \n",
    "    def calc_hidden_layer(self, prev_state, x):\n",
    "        return tf.nn.relu(Ui*x + tf.matmul(Wh, prev_state) + Bh, name=\"hidden_relu\")\n",
    "    \n",
    "    def transform_hiddenOutput(self, current_state):\n",
    "        pass\n",
    "    \n",
    "    def calc_output(self, dt, hidden_state):\n",
    "        return self.loglikelihood(dt, hidden_state)\n",
    "    \n",
    "    def loglikelihood(self, dt, current_state):\n",
    "        hist_influence = tf.matmul(self.Vo, current_state, transpose_a=True)\n",
    "        curr_influence = self.wo * dt\n",
    "        rate_t = hist_influence + curr_influence + self.bOut\n",
    "        return rate_t + tf.exp(curr_influence + hist_influence) * (1/self.wo) - (1/self.w0)* tf.exp(rate_t)\n"
   ]
  },
  {
   "cell_type": "code",
   "execution_count": null,
   "metadata": {
    "collapsed": true
   },
   "outputs": [],
   "source": []
  }
 ],
 "metadata": {
  "kernelspec": {
   "display_name": "Python 3",
   "language": "python",
   "name": "python3"
  },
  "language_info": {
   "codemirror_mode": {
    "name": "ipython",
    "version": 3
   },
   "file_extension": ".py",
   "mimetype": "text/x-python",
   "name": "python",
   "nbconvert_exporter": "python",
   "pygments_lexer": "ipython3",
   "version": "3.5.2"
  },
  "latex_envs": {
   "bibliofile": "biblio.bib",
   "cite_by": "apalike",
   "current_citInitial": 1,
   "eqLabelWithNumbers": true,
   "eqNumInitial": 0
  }
 },
 "nbformat": 4,
 "nbformat_minor": 2
}
