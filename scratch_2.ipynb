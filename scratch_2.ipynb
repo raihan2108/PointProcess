{
 "cells": [
  {
   "cell_type": "code",
   "execution_count": 1,
   "metadata": {},
   "outputs": [],
   "source": [
    "%matplotlib inline"
   ]
  },
  {
   "cell_type": "code",
   "execution_count": 2,
   "metadata": {},
   "outputs": [],
   "source": [
    "import pandas as pd\n",
    "import gzip\n",
    "import numpy as np\n",
    "from scipy.optimize import minimize\n",
    "from datetime import timedelta\n",
    "import tensorflow as tf"
   ]
  },
  {
   "cell_type": "code",
   "execution_count": 3,
   "metadata": {},
   "outputs": [],
   "source": [
    "with gzip.open(\"/home/sathappan/user_timeseries_sorted.gz\" ) as inf:\n",
    "    cnt = 0\n",
    "    d2 = []\n",
    "    import json\n",
    "    from dateutil.parser import parse\n",
    "    for i in inf:\n",
    "        d2.append([parse(dt) for dt in json.loads(i)['arrivalTimes']])\n",
    "        cnt += 1\n",
    "        if cnt > 100:\n",
    "            break"
   ]
  },
  {
   "cell_type": "code",
   "execution_count": 4,
   "metadata": {},
   "outputs": [],
   "source": [
    "from datetime import timedelta"
   ]
  },
  {
   "cell_type": "code",
   "execution_count": 5,
   "metadata": {},
   "outputs": [],
   "source": [
    "dframe = pd.DataFrame(d2)\n",
    "#dframe.fillna(timedelta(0))\n",
    "df = dframe.loc[:, :5].copy()"
   ]
  },
  {
   "cell_type": "code",
   "execution_count": 6,
   "metadata": {},
   "outputs": [],
   "source": [
    "dframe.columns = [str(l) for l in range(0, 1540)]\n",
    "names = [str(l) for l in range(0, 1540)]"
   ]
  },
  {
   "cell_type": "code",
   "execution_count": null,
   "metadata": {},
   "outputs": [],
   "source": []
  },
  {
   "cell_type": "code",
   "execution_count": 7,
   "metadata": {},
   "outputs": [],
   "source": [
    "#df['newcol'] = df[['col1','col2']].sum(axis=1) - df['col5']\n",
    "#df[['newcol', 'col3']].sub(df['col5'], axis=0)\n",
    "arrivals = dframe[names[:400]].sub(dframe[\"0\"], axis=0)\n",
    "mask = ~(arrivals.isnull()).as_matrix()\n",
    "arrivals_numpy = arrivals.applymap(lambda x: x/np.timedelta64(1, '1D')).as_matrix()"
   ]
  },
  {
   "cell_type": "code",
   "execution_count": 8,
   "metadata": {},
   "outputs": [
    {
     "data": {
      "text/plain": [
       "(101, 400)"
      ]
     },
     "execution_count": 8,
     "metadata": {},
     "output_type": "execute_result"
    }
   ],
   "source": [
    "arrivals_numpy.shape"
   ]
  },
  {
   "cell_type": "code",
   "execution_count": 9,
   "metadata": {},
   "outputs": [],
   "source": [
    "#arrivals = df - df.loc[:, 0][:, None]\n",
    "#arrivals.fillna(timedelta(0), inplace=True)\n",
    "#arrivals = arrivals.loc[:, 1:].applymap(lambda x: x.to_timedelta64())"
   ]
  },
  {
   "cell_type": "code",
   "execution_count": 10,
   "metadata": {},
   "outputs": [],
   "source": [
    "arrivals.fillna(timedelta(0), inplace=True)"
   ]
  },
  {
   "cell_type": "code",
   "execution_count": 27,
   "metadata": {},
   "outputs": [],
   "source": [
    "def loglikelihood():\n",
    "    #tdiff = diff(arrivals) * mask[:, 1:]\n",
    "    #A_i = tf.zeros_like(arrivals)\n",
    "    #for i in range(tdiff.shape[0]):\n",
    "    #    A_i[:, i + 1] = tdiff[:, i] * (1 + A[:, i ])\n",
    "    part1 = tf.reduce_sum(tf.log(mu + alpha * ais_tvar), axis=1)\n",
    "        \n",
    "    part2 = mu * T_max\n",
    "    part3 = (alpha / beta)* tf.reduce_sum(tf.exp(-beta * ((tf.constant(725.0, dtype=tf.float64) - arrivals_tvar)*mask_tvar)) - tf.constant(1.0, dtype=tf.float64))\n",
    "    \n",
    "    return part1 - part2 + part3"
   ]
  },
  {
   "cell_type": "code",
   "execution_count": 12,
   "metadata": {},
   "outputs": [],
   "source": [
    "def calc_Ai(arrivals, mask, beta):\n",
    "    tdiff = np.diff(arrivals) * mask[:, 1:]\n",
    "    tdiff = np.exp(tdiff * -beta)\n",
    "    A_i = np.zeros_like(arrivals, dtype=np.float128)\n",
    "    for i in range(tdiff.shape[1]):\n",
    "        #print(i,)\n",
    "        A_i[:, i + 1] = tdiff[:, i] * (1 + A_i[:, i])\n",
    "    return A_i, tdiff\n",
    "    "
   ]
  },
  {
   "cell_type": "code",
   "execution_count": 13,
   "metadata": {},
   "outputs": [],
   "source": [
    "A_i, tempdiff = calc_Ai(np.nan_to_num(arrivals_numpy), mask, -1.0)"
   ]
  },
  {
   "cell_type": "code",
   "execution_count": 14,
   "metadata": {},
   "outputs": [
    {
     "data": {
      "text/plain": [
       "(101, 400)"
      ]
     },
     "execution_count": 14,
     "metadata": {},
     "output_type": "execute_result"
    }
   ],
   "source": [
    "arrivals_numpy.shape"
   ]
  },
  {
   "cell_type": "code",
   "execution_count": 17,
   "metadata": {},
   "outputs": [
    {
     "data": {
      "text/plain": [
       "724.23681712962969"
      ]
     },
     "execution_count": 17,
     "metadata": {},
     "output_type": "execute_result"
    }
   ],
   "source": [
    "np.nan_to_num(arrivals_numpy).max()"
   ]
  },
  {
   "cell_type": "markdown",
   "metadata": {},
   "source": [
    "#### Tensorflow fitting"
   ]
  },
  {
   "cell_type": "code",
   "execution_count": 25,
   "metadata": {},
   "outputs": [],
   "source": [
    "## Assuming number of users is 32\n",
    "num_users = 101\n",
    "\n",
    "## All parameters are column vectors with size equal to number of users\n",
    "\n",
    "alpha = tf.Variable(tf.ones([num_users, 1], dtype=tf.float64), dtype=tf.float64)\n",
    "beta = tf.Variable(tf.ones([num_users, 1], dtype=tf.float64), dtype=tf.float64)\n",
    "mu = tf.Variable(tf.zeros([num_users, 1], dtype=tf.float64), dtype=tf.float64)\n"
   ]
  },
  {
   "cell_type": "code",
   "execution_count": 28,
   "metadata": {},
   "outputs": [],
   "source": [
    "T_max = 400\n",
    "arrivals_tvar = tf.placeholder(tf.float64, [None, T_max])\n",
    "mask_tvar = tf.placeholder(tf.float64, [None, T_max])\n",
    "ais_tvar = tf.placeholder(tf.float64,[None, T_max])\n",
    "tdiff_tvar = tf.placeholder(tf.float64, [None, T_max-1])\n",
    "loglik = loglikelihood()"
   ]
  },
  {
   "cell_type": "code",
   "execution_count": 30,
   "metadata": {},
   "outputs": [
    {
     "name": "stdout",
     "output_type": "stream",
     "text": [
      "[[-inf -inf -inf ..., -inf -inf -inf]\n",
      " [-inf -inf -inf ..., -inf -inf -inf]\n",
      " [-inf -inf -inf ..., -inf -inf -inf]\n",
      " ..., \n",
      " [-inf -inf -inf ..., -inf -inf -inf]\n",
      " [-inf -inf -inf ..., -inf -inf -inf]\n",
      " [-inf -inf -inf ..., -inf -inf -inf]]\n"
     ]
    }
   ],
   "source": [
    "init = tf.global_variables_initializer()\n",
    "with tf.Session() as sess:\n",
    "    sess.run(init)\n",
    "    print(sess.run(loglik, feed_dict={arrivals_tvar: np.nan_to_num(arrivals_numpy), mask_tvar:mask, ais_tvar:A_i, tdiff_tvar: tempdiff}))"
   ]
  },
  {
   "cell_type": "code",
   "execution_count": null,
   "metadata": {},
   "outputs": [],
   "source": []
  }
 ],
 "metadata": {
  "kernelspec": {
   "display_name": "Python 3",
   "language": "python",
   "name": "python3"
  },
  "language_info": {
   "codemirror_mode": {
    "name": "ipython",
    "version": 3
   },
   "file_extension": ".py",
   "mimetype": "text/x-python",
   "name": "python",
   "nbconvert_exporter": "python",
   "pygments_lexer": "ipython3",
   "version": "3.6.1rc1"
  }
 },
 "nbformat": 4,
 "nbformat_minor": 2
}
