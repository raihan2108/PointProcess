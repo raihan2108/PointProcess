{
 "cells": [
  {
   "cell_type": "code",
   "execution_count": 1,
   "metadata": {
    "collapsed": true
   },
   "outputs": [],
   "source": [
    "%matplotlib inline\n",
    "import pandas as pd\n",
    "import gzip\n",
    "import numpy as np\n",
    "from scipy.optimize import minimize\n",
    "from datetime import timedelta\n",
    "import tensorflow as tf\n",
    "from datetime import timedelta\n",
    "from scipy.sparse import csr_matrix"
   ]
  },
  {
   "cell_type": "code",
   "execution_count": 2,
   "metadata": {
    "collapsed": false
   },
   "outputs": [],
   "source": [
    "#inputfile=\"/home/sathappan/workspace/time2event/hawkes/data/all_trades.csv\"\n",
    "inputfile=\"/Users/nikhil/phd/urban_computing/wmata/repos/PointProcess/data/all_trades.csv\"\n",
    "def read_data(inputfile,_e=1.667e-6):\n",
    "    \"\"\"\n",
    "        Read inputfile , process difference between first event and each subsequent event.\n",
    "        Assumption is that events are in sorted order by datetime.\n",
    "    \"\"\"\n",
    "    \n",
    "    df = pd.read_csv(inputfile)\n",
    "    df.t = pd.to_datetime(df.t)\n",
    "    pp = (df.t - df.t[0]).apply(lambda x: x/np.timedelta64(1, 'm')).value_counts()\n",
    "    events = []\n",
    "    e = _e\n",
    "    for t, cnt in pp.iteritems():\n",
    "        base_time = t\n",
    "        for i in range(cnt):\n",
    "            #here we just add i*e_i (a very small perturbation) to avoid collisions.\n",
    "            events.append(base_time + e*i)  \n",
    "\n",
    "    events = np.array(sorted(events))\n",
    "    empirical = df.t\n",
    "    empirical_counts = empirical.value_counts().resample(rule='1min').sum()\n",
    "    events = events[None, :]   #None operation adds an extra dimention of size 1 to events.\n",
    "    return events,empirical_counts"
   ]
  },
  {
   "cell_type": "code",
   "execution_count": 3,
   "metadata": {
    "collapsed": false
   },
   "outputs": [],
   "source": [
    "events,empirical_counts=read_data(inputfile)"
   ]
  },
  {
   "cell_type": "code",
   "execution_count": 4,
   "metadata": {
    "collapsed": true
   },
   "outputs": [],
   "source": [
    "def calc_Ai(arrivals, mask, beta):\n",
    "    tdiff = np.diff(arrivals) * mask[:, 1:]\n",
    "    tdiff = np.exp(tdiff * -beta)\n",
    "    A_i = np.zeros_like(arrivals, dtype=np.float128)\n",
    "    for i in range(tdiff.shape[1]):\n",
    "        #print(i,)\n",
    "        A_i[:, i + 1] = tdiff[:, i] * (1 + A_i[:, i])\n",
    "    return A_i, tdiff"
   ]
  },
  {
   "cell_type": "code",
   "execution_count": 5,
   "metadata": {
    "collapsed": false
   },
   "outputs": [],
   "source": [
    "#A_i, tempdiff = calc_Ai(events, mask, 1.0)"
   ]
  },
  {
   "cell_type": "code",
   "execution_count": 6,
   "metadata": {
    "collapsed": true
   },
   "outputs": [],
   "source": [
    "def calc_temporal_differences(arrivals, mask):\n",
    "    #U X T X T tensor.\n",
    "    temporal_diff = np.zeros((arrivals.shape[0], arrivals.shape[1], arrivals.shape[1]))\n",
    "    #mask_tempdiff = np.zeros_like(temporal_diff)\n",
    "    for t_i in range(arrivals.shape[1]):\n",
    "        temporal_diff[:, :t_i, t_i] = arrivals[:, t_i] - arrivals[:, :t_i]\n",
    "        #mask_tempdiff[:, :t_i, t_i] = 1.0\n",
    "    mask_tempdiff = (temporal_diff != 0) \n",
    "    \n",
    "    return mask_tempdiff, temporal_diff\n",
    "    ### Create a UsersxTimexTime matrix"
   ]
  },
  {
   "cell_type": "code",
   "execution_count": 7,
   "metadata": {
    "collapsed": true
   },
   "outputs": [],
   "source": [
    "mask = np.ones_like(events)\n",
    "mask_tdiff, temporal_diff = calc_temporal_differences(events, mask)"
   ]
  },
  {
   "cell_type": "code",
   "execution_count": 8,
   "metadata": {
    "collapsed": false
   },
   "outputs": [
    {
     "data": {
      "text/plain": [
       "(array([[[False,  True,  True,  True,  True],\n",
       "         [False, False,  True,  True,  True]]], dtype=bool),\n",
       " array([[[  0.00000000e+00,   1.66700000e-06,   2.50000000e-01,\n",
       "            2.11666667e+00,   2.16666667e+00],\n",
       "         [  0.00000000e+00,   0.00000000e+00,   2.49998333e-01,\n",
       "            2.11666500e+00,   2.16666500e+00]]]))"
      ]
     },
     "execution_count": 8,
     "metadata": {},
     "output_type": "execute_result"
    }
   ],
   "source": [
    "mask_tdiff[:,:2,:5],temporal_diff[:,:2,:5]"
   ]
  },
  {
   "cell_type": "code",
   "execution_count": 9,
   "metadata": {
    "collapsed": true
   },
   "outputs": [],
   "source": [
    "def loglikelihood():\n",
    "    #tdiff = diff(arrivals) * mask[:, 1:]\n",
    "    #A_i = tf.zeros_like(arrivals)\n",
    "    #for i in range(tdiff.shape[0]):\n",
    "    #    A_i[:, i + 1] = tdiff[:, i] * (1 + A[:, i ])\n",
    "    #part1 = tf.log(mu + alpha * ais_tvar)\n",
    "    #part1 = tf.reduce_sum(tf.log(mu + alpha * ais_tvar), axis=1)[:, None]\n",
    "    hist_effects = tf.reduce_sum((tf.exp(-beta[:, :, None] * temp_diff_tvar))\\\n",
    "                                 *mask_tdiff_tvar, axis=2)\n",
    "    part1 = tf.reduce_sum(tf.log(mu + alpha * hist_effects), axis=1)\n",
    "    #part1 = tf.reduce_sum()\n",
    "    T_max = tf.reduce_max(arrivals_tvar*mask_tvar, axis=1)[:, None]\n",
    "    part2 = mu * T_max\n",
    "    tmp = tf.exp(-beta * ((T_max - arrivals_tvar)*mask_tvar))\n",
    "    p3_tmp = tf.reduce_sum(tmp - tf.constant(1.0, dtype=tf.float64), axis=1)\n",
    "    part3 = (alpha / beta)* p3_tmp[:, None]\n",
    "    \n",
    "    #return part1, part2, part3, part1 - part2 + part3\n",
    "    return tf.reduce_sum(part1 - part2 + part3)"
   ]
  },
  {
   "cell_type": "code",
   "execution_count": 10,
   "metadata": {
    "collapsed": false
   },
   "outputs": [
    {
     "data": {
      "text/plain": [
       "((1, 5000), (1, 5000, 5000))"
      ]
     },
     "execution_count": 10,
     "metadata": {},
     "output_type": "execute_result"
    }
   ],
   "source": [
    "mask.shape,mask_tdiff.shape"
   ]
  },
  {
   "cell_type": "code",
   "execution_count": 11,
   "metadata": {
    "collapsed": true
   },
   "outputs": [],
   "source": [
    "num_users = 1\n",
    "alpha = tf.Variable(tf.random_uniform([num_users, 1], dtype=tf.float64), name='alpha')\n",
    "beta = tf.Variable(tf.random_uniform([num_users, 1], dtype=tf.float64), name='beta')\n",
    "mu = tf.Variable(tf.random_uniform([num_users, 1], dtype=tf.float64), name='mu')"
   ]
  },
  {
   "cell_type": "code",
   "execution_count": 12,
   "metadata": {
    "collapsed": true
   },
   "outputs": [],
   "source": [
    "#T_max = 5000\n",
    "T_max = mask_tdiff.shape[1] \n",
    "arrivals_tvar = tf.placeholder(tf.float64, [None, T_max])\n",
    "mask_tvar = tf.placeholder(tf.float64, [None, T_max])\n",
    "temp_diff_tvar = tf.placeholder(tf.float64,[None, T_max, T_max])\n",
    "mask_tdiff_tvar = tf.placeholder(tf.float64, [None, T_max, T_max])"
   ]
  },
  {
   "cell_type": "code",
   "execution_count": 13,
   "metadata": {
    "collapsed": false
   },
   "outputs": [],
   "source": [
    "def cost_func():\n",
    "    conv=0.4\n",
    "    nloglik = -loglikelihood()\n",
    "    #regularizer = tf.reduce_sum(alpha)  + tf.reduce_sum(mu) + tf.reduce_sum(alpha/beta) \n",
    "    regularizer = tf.reduce_sum(alpha)+tf.reduce_sum(mu)+tf.reduce_sum(beta) +\\\n",
    "    tf.reduce_sum(tf.square(alpha))+tf.reduce_sum(tf.square(beta))+tf.reduce_sum(tf.square(mu))#-tf.reduce_sum(tf.abs(alpha))-tf.reduce_sum(tf.abs(beta))\n",
    "    return (1-conv)*regularizer + (conv)*nloglik"
   ]
  },
  {
   "cell_type": "code",
   "execution_count": 14,
   "metadata": {
    "collapsed": false
   },
   "outputs": [],
   "source": [
    "#p3 = loglikelihood()\n",
    "p3 = cost_func()\n",
    "#grad = tf.gradients(p3, [alpha, beta, mu])\n",
    "\n",
    "optim = tf.train.GradientDescentOptimizer(0.000001).minimize(p3)\n",
    "#clip_alpha = alpha.assign(tf.maximum(0.05, alpha))\n",
    "#clip_beta = beta.assign(tf.maximum(0.05, beta))\n",
    "\n",
    "#commented_nikhil\n",
    "#gr_alpha, gr_beta, gr_mu  = optim.compute_gradients(p3)"
   ]
  },
  {
   "cell_type": "code",
   "execution_count": 15,
   "metadata": {
    "collapsed": false
   },
   "outputs": [],
   "source": [
    "# gr_alpha = (tf.clip_by_value(gr_alpha[0], 0.01, np.infty), gr_alpha[1])\n",
    "# gr_beta = (tf.clip_by_value(gr_beta[0], 0.01, np.infty), gr_beta[1])\n",
    "# gr_mu = (tf.clip_by_value(gr_mu[0], 0.01, np.infty), gr_mu[1])\n",
    "\n",
    "#commented_nikhil_start\n",
    "#minmzr = optim.apply_gradients([gr_alpha,gr_beta, gr_mu])\n",
    "#commented_nikhil_end\n",
    "\n",
    "#p1, p2, p3 = loglikelihood()\n",
    "#capped_gvs = [(tf.clip_by_value(grad, 0, 1), var) for grad, var in gvs]\n",
    "#train_op = optim.apply_gradients(capped_gvs)"
   ]
  },
  {
   "cell_type": "code",
   "execution_count": 18,
   "metadata": {
    "collapsed": false,
    "scrolled": false
   },
   "outputs": [
    {
     "name": "stdout",
     "output_type": "stream",
     "text": [
      "Initial Vals alpha [[ 0.82297521]] beta [[ 0.50715656]]\n",
      "Iter  0 cost -8682.28514687 al [[ 0.81922328]] bt [[ 0.51420028]] m [[ 0.26310319]]\n",
      "Iter  50 cost -9514.30642061 al [[ 0.7329975]] bt [[ 0.67413009]] m [[ 0.25952932]]\n",
      "Iter  100 cost -9589.90860663 al [[ 0.71943273]] bt [[ 0.73145825]] m [[ 0.25954782]]\n",
      "Iter  150 cost -9616.16796654 al [[ 0.72675415]] bt [[ 0.76644056]] m [[ 0.26088053]]\n",
      "Iter  200 cost -9635.68838699 al [[ 0.7414455]] bt [[ 0.79385447]] m [[ 0.26276106]]\n",
      "Iter  250 cost -9653.75038109 al [[ 0.75885504]] bt [[ 0.81823255]] m [[ 0.26490033]]\n",
      "Iter  300 cost -9671.184839 al [[ 0.77723521]] bt [[ 0.84121512]] m [[ 0.26718316]]\n",
      "Iter  350 cost -9688.15827774 al [[ 0.7958934]] bt [[ 0.86345336]] m [[ 0.26956128]]\n",
      "Iter  400 cost -9704.72219303 al [[ 0.81454481]] bt [[ 0.88522489]] m [[ 0.27201334]]\n",
      "Iter  450 cost -9720.90450027 al [[ 0.83307005]] bt [[ 0.90665648]] m [[ 0.27452929]]\n",
      "Iter  500 cost -9736.72660128 al [[ 0.85141964]] bt [[ 0.92781059]] m [[ 0.27710402]]\n",
      "Iter  550 cost -9752.20703402 al [[ 0.86957456]] bt [[ 0.94872095]] m [[ 0.27973464]]\n",
      "Iter  600 cost -9767.3624563 al [[ 0.88752939]] bt [[ 0.96940771]] m [[ 0.28241931]]\n",
      "Iter  650 cost -9782.20803417 al [[ 0.9052849]] bt [[ 0.98988438]] m [[ 0.28515664]]\n",
      "Iter  700 cost -9796.75766927 al [[ 0.92284456]] bt [[ 1.01016094]] m [[ 0.28794553]]\n",
      "Iter  750 cost -9811.02416577 al [[ 0.94021303]] bt [[ 1.03024538]] m [[ 0.29078495]]\n",
      "Iter  800 cost -9825.0193645 al [[ 0.95739538]] bt [[ 1.05014452]] m [[ 0.29367394]]\n",
      "Iter  850 cost -9838.75425458 al [[ 0.97439672]] bt [[ 1.06986438]] m [[ 0.29661153]]\n",
      "Iter  900 cost -9852.23906728 al [[ 0.99122206]] bt [[ 1.08941042]] m [[ 0.29959678]]\n",
      "Iter  950 cost -9865.48335593 al [[ 1.00787622]] bt [[ 1.1087877]] m [[ 0.30262872]]\n"
     ]
    }
   ],
   "source": [
    "#np.random.seed(12345)\n",
    "init = tf.global_variables_initializer()\n",
    "with tf.Session() as sess:\n",
    "    sess.run(init)\n",
    "    #print(\"Initial Value of alpha, beta and gamma\", gr_alpha[1].eval(),gr_beta[1].eval(),gr_mu[1].eval())\n",
    "    _cost=list()\n",
    "    _alphas=list()\n",
    "    _betas=list()\n",
    "    _mus=list()\n",
    "    print(\"Initial Vals\",\"alpha\",alpha.eval(),\"beta\",beta.eval())\n",
    "    #tf_a = (sess.run([gr_alpha, minmzr], feed_dict={arrivals_tvar: np.nan_to_num(arrivals_numpy), mask_tvar:mask, ais_tvar:A_i, tdiff_tvar: tempdiff}))\n",
    "    for i in range(10000):\n",
    "#         _, c, al, bt,m = (sess.run([minmzr, p3, alpha, beta, mu], \\\n",
    "#                                    feed_dict={arrivals_tvar: np.nan_to_num(events),\\\n",
    "#                                               mask_tvar:mask, temp_diff_tvar: temporal_diff,\\\n",
    "#                                               mask_tdiff_tvar:mask_tdiff}))\n",
    "        op,c,al,bt,m=(sess.run([optim,p3,alpha,beta,mu],feed_dict={arrivals_tvar: np.nan_to_num(events),\\\n",
    "                                   mask_tvar:mask, temp_diff_tvar: temporal_diff,\\\n",
    "                                   mask_tdiff_tvar:mask_tdiff}))\n",
    "        if not (i%50):\n",
    "            print(\"Iter \",i,\"cost\",c,\"al\",al,\"bt\",bt,\"m\",m)\n",
    "        _cost.append(c)\n",
    "        _betas.append(bt)\n",
    "        _alphas.append(al)\n",
    "#         if alpha.eval()<0 or alpha.eval()>100:\n",
    "#             print(\"Iter \",i,\"Before Clipping Alpha\",alpha.eval())\n",
    "#             val=tf.stack(np.random.random(alpha.get_shape()))\n",
    "#             alpha=tf.assign(alpha,val)\n",
    "#             print(\"After Clipping Alpha\",alpha.eval())\n",
    "\n",
    "#         if beta.eval()<0 or beta.eval()>100:\n",
    "#             print(\"Iter \",i,\"Before Clipping Beta\",beta.eval())\n",
    "            \n",
    "#             val=tf.stack(np.random.random(beta.get_shape()))\n",
    "#             beta=tf.assign(beta,val)\n",
    "#             print(\"After Clipping Beta\",beta.eval())\n",
    "        if not (i % 50):\n",
    "            #print(c)\n",
    "            #print(al, bt, m)\n",
    "            pass\n",
    "    #tf_a, tf_b, tf_c, tf_d = (sess.run(p3, feed_dict={arrivals_tvar: np.nan_to_num(arrivals_numpy), mask_tvar:mask, ais_tvar:A_i, tdiff_tvar: tempdiff}))"
   ]
  },
  {
   "cell_type": "code",
   "execution_count": 21,
   "metadata": {
    "collapsed": false
   },
   "outputs": [
    {
     "data": {
      "text/plain": [
       "<matplotlib.text.Text at 0x129ec7780>"
      ]
     },
     "execution_count": 21,
     "metadata": {},
     "output_type": "execute_result"
    },
    {
     "data": {
      "image/png": "[encoded data removed]",
      "text/plain": [
       "<matplotlib.figure.Figure at 0x129e4bef0>"
      ]
     },
     "metadata": {},
     "output_type": "display_data"
    }
   ],
   "source": [
    "import matplotlib.pyplot as plt\n",
    "plt.plot(_cost)\n",
    "plt.title(\"Cost\")"
   ]
  },
  {
   "cell_type": "code",
   "execution_count": 39,
   "metadata": {
    "collapsed": false
   },
   "outputs": [
    {
     "data": {
      "text/plain": [
       "<matplotlib.legend.Legend at 0x12a274e10>"
      ]
     },
     "execution_count": 39,
     "metadata": {},
     "output_type": "execute_result"
    },
    {
     "data": {
      "image/png": "[encoded data removed]",
      "text/plain": [
       "<matplotlib.figure.Figure at 0x12a1336d8>"
      ]
     },
     "metadata": {},
     "output_type": "display_data"
    }
   ],
   "source": [
    "plt.plot([val[0][0] for val in _alphas])\n",
    "plt.plot([val[0][0] for val in _betas])\n",
    "plt.title(\"Alphas, Betas\")\n",
    "plt.legend([\"alpha\",\"beta\"])"
   ]
  },
  {
   "cell_type": "code",
   "execution_count": null,
   "metadata": {
    "collapsed": true
   },
   "outputs": [],
   "source": []
  }
 ],
 "metadata": {
  "kernelspec": {
   "display_name": "Python 3",
   "language": "python",
   "name": "python3"
  },
  "language_info": {
   "codemirror_mode": {
    "name": "ipython",
    "version": 3
   },
   "file_extension": ".py",
   "mimetype": "text/x-python",
   "name": "python",
   "nbconvert_exporter": "python",
   "pygments_lexer": "ipython3",
   "version": "3.5.2"
  },
  "latex_envs": {
   "bibliofile": "biblio.bib",
   "cite_by": "apalike",
   "current_citInitial": 1,
   "eqLabelWithNumbers": true,
   "eqNumInitial": 0
  }
 },
 "nbformat": 4,
 "nbformat_minor": 2
}
