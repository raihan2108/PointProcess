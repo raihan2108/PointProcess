{
 "cells": [
  {
   "cell_type": "code",
   "execution_count": 1,
   "metadata": {},
   "outputs": [],
   "source": [
    "%matplotlib inline"
   ]
  },
  {
   "cell_type": "code",
   "execution_count": 2,
   "metadata": {},
   "outputs": [],
   "source": [
    "import pandas as pd\n",
    "import gzip\n",
    "import numpy as np\n",
    "from scipy.optimize import minimize\n",
    "from datetime import timedelta\n",
    "import tensorflow as tf\n",
    "from datetime import timedelta"
   ]
  },
  {
   "cell_type": "code",
   "execution_count": 3,
   "metadata": {},
   "outputs": [],
   "source": [
    "df = pd.read_csv(\"/home/sathappan/workspace/time2event/hawkes/data/all_trades.csv\")\n",
    "df.t = pd.to_datetime(df.t)\n",
    "pp = (df.t - df.t[0]).apply(lambda x: x/np.timedelta64(1, 'm')).value_counts()\n",
    "events = []\n",
    "e = 1.667e-6\n",
    "for t, cnt in pp.iteritems():\n",
    "    base_time = t\n",
    "    for i in range(cnt):\n",
    "        events.append(base_time + e*i)\n",
    "\n",
    "events = np.array(sorted(events))\n",
    "empirical = df.t\n",
    "empirical_counts = empirical.value_counts().resample(rule='1min').sum()\n",
    "events = events[None, :]\n"
   ]
  },
  {
   "cell_type": "code",
   "execution_count": 4,
   "metadata": {},
   "outputs": [],
   "source": [
    "def calc_Ai(arrivals, mask, beta):\n",
    "    tdiff = np.diff(arrivals) * mask[:, 1:]\n",
    "    tdiff = np.exp(tdiff * -beta)\n",
    "    A_i = np.zeros_like(arrivals, dtype=np.float128)\n",
    "    for i in range(tdiff.shape[1]):\n",
    "        #print(i,)\n",
    "        A_i[:, i + 1] = tdiff[:, i] * (1 + A_i[:, i])\n",
    "    return A_i, tdiff"
   ]
  },
  {
   "cell_type": "code",
   "execution_count": 5,
   "metadata": {},
   "outputs": [],
   "source": [
    "mask = np.ones_like(events)\n",
    "A_i, tempdiff = calc_Ai(events, mask, 1.0)"
   ]
  },
  {
   "cell_type": "code",
   "execution_count": 6,
   "metadata": {},
   "outputs": [],
   "source": [
    "def calc_temporal_differences(arrivals, mask):\n",
    "    temporal_diff = np.zeros((arrivals.shape[0], arrivals.shape[1], arrivals.shape[1]))\n",
    "    #mask_tempdiff = np.zeros_like(temporal_diff)\n",
    "    for t_i in range(arrivals.shape[1]):\n",
    "        temporal_diff[:, :t_i, t_i] = arrivals[:, t_i] - arrivals[:, :t_i]\n",
    "        #mask_tempdiff[:, :t_i, t_i] = 1.0\n",
    "    mask_tempdiff = (temporal_diff != 0)\n",
    "    \n",
    "    return mask_tempdiff, temporal_diff\n",
    "    ### Create a UsersxTimexTime matrix"
   ]
  },
  {
   "cell_type": "code",
   "execution_count": 7,
   "metadata": {},
   "outputs": [],
   "source": [
    "mask_tdiff, temporal_diff = calc_temporal_differences(events, mask)"
   ]
  },
  {
   "cell_type": "code",
   "execution_count": 8,
   "metadata": {},
   "outputs": [],
   "source": [
    "from scipy.sparse import csr_matrix"
   ]
  },
  {
   "cell_type": "code",
   "execution_count": 9,
   "metadata": {},
   "outputs": [],
   "source": [
    "def loglikelihood():\n",
    "    #tdiff = diff(arrivals) * mask[:, 1:]\n",
    "    #A_i = tf.zeros_like(arrivals)\n",
    "    #for i in range(tdiff.shape[0]):\n",
    "    #    A_i[:, i + 1] = tdiff[:, i] * (1 + A[:, i ])\n",
    "    #part1 = tf.log(mu + alpha * ais_tvar)\n",
    "    #part1 = tf.reduce_sum(tf.log(mu + alpha * ais_tvar), axis=1)[:, None]\n",
    "    hist_effects = tf.reduce_sum((tf.exp(-beta[:, :, None] * temp_diff_tvar))*mask_tdiff_tvar, axis=2)\n",
    "    part1 = tf.reduce_sum(tf.log(mu + alpha * hist_effects), axis=1)\n",
    "    #part1 = tf.reduce_sum()\n",
    "    T_max = tf.reduce_max(arrivals_tvar*mask_tvar, axis=1)[:, None]\n",
    "    part2 = mu * T_max\n",
    "    tmp = tf.exp(-beta * ((T_max - arrivals_tvar)*mask_tvar))\n",
    "    p3_tmp = tf.reduce_sum(tmp - tf.constant(1.0, dtype=tf.float64), axis=1)\n",
    "    part3 = (alpha / beta)* p3_tmp[:, None]\n",
    "    \n",
    "    #return part1, part2, part3, part1 - part2 + part3\n",
    "    return tf.reduce_sum(part1 - part2 + part3)"
   ]
  },
  {
   "cell_type": "code",
   "execution_count": null,
   "metadata": {},
   "outputs": [],
   "source": []
  },
  {
   "cell_type": "code",
   "execution_count": 10,
   "metadata": {},
   "outputs": [
    {
     "data": {
      "text/plain": [
       "(1, 5000)"
      ]
     },
     "execution_count": 10,
     "metadata": {},
     "output_type": "execute_result"
    }
   ],
   "source": [
    "mask.shape"
   ]
  },
  {
   "cell_type": "code",
   "execution_count": null,
   "metadata": {},
   "outputs": [],
   "source": []
  },
  {
   "cell_type": "code",
   "execution_count": 11,
   "metadata": {},
   "outputs": [],
   "source": [
    "num_users = 1\n",
    "alpha = tf.Variable(tf.random_uniform([num_users, 1], dtype=tf.float64), name='alpha')\n",
    "#alpha = tf.Variable(tf.ones([num_users, 1], dtype=tf.float64), name='alpha')\n",
    "beta = tf.Variable(tf.random_uniform([num_users, 1], dtype=tf.float64), name='beta')\n",
    "#beta = tf.Variable(tf.ones([num_users, 1], dtype=tf.float64), name='beta')\n",
    "#beta = tf.constant(1.0, dtype=tf.float64, name='beta')\n",
    "mu = tf.Variable(tf.random_uniform([num_users, 1], dtype=tf.float64), name='mu')\n",
    "#mu = tf.Variable(tf.ones([num_users, 1], dtype=tf.float64), name='mu')\n"
   ]
  },
  {
   "cell_type": "code",
   "execution_count": 12,
   "metadata": {},
   "outputs": [],
   "source": [
    "T_max = 5000\n",
    "arrivals_tvar = tf.placeholder(tf.float64, [None, T_max])\n",
    "mask_tvar = tf.placeholder(tf.float64, [None, T_max])\n",
    "temp_diff_tvar = tf.placeholder(tf.float64,[None, T_max, T_max])\n",
    "mask_tdiff_tvar = tf.placeholder(tf.float64, [None, T_max, T_max])"
   ]
  },
  {
   "cell_type": "code",
   "execution_count": 13,
   "metadata": {},
   "outputs": [],
   "source": [
    "def cost_func():\n",
    "    nloglik = -loglikelihood()\n",
    "    regularizer = tf.reduce_sum(alpha)  + tf.reduce_sum(mu) + tf.reduce_sum(alpha/beta) \n",
    "    return regularizer + nloglik"
   ]
  },
  {
   "cell_type": "code",
   "execution_count": 14,
   "metadata": {},
   "outputs": [],
   "source": [
    "#p3 = loglikelihood()\n",
    "p3 = cost_func()\n",
    "#grad = tf.gradients(p3, [alpha, beta, mu])\n",
    "optim = tf.train.GradientDescentOptimizer(0.01)\n",
    "\n",
    "optim = tf.train.AdamOptimizer()\n",
    "\n",
    "gr_alpha, gr_beta, gr_mu  = optim.compute_gradients(p3)\n",
    "gr_alpha = (tf.clip_by_value(gr_alpha[0], 0.01, np.infty), gr_alpha[1])\n",
    "gr_beta = (tf.clip_by_value(gr_beta[0], 0.01, np.infty), gr_beta[1])\n",
    "gr_mu = (tf.clip_by_value(gr_mu[0], 0.01, np.infty), gr_mu[1])\n",
    "\n",
    "minmzr = optim.apply_gradients([gr_alpha,gr_beta, gr_mu])\n",
    "#p1, p2, p3 = loglikelihood()\n",
    "#capped_gvs = [(tf.clip_by_value(grad, 0, 1), var) for grad, var in gvs]\n",
    "#train_op = optim.apply_gradients(capped_gvs)"
   ]
  },
  {
   "cell_type": "code",
   "execution_count": 15,
   "metadata": {},
   "outputs": [
    {
     "name": "stdout",
     "output_type": "stream",
     "text": [
      "-9055.07978182\n",
      "[[ 0.60209926]] [[ 0.4505737]] [[ 0.55708193]]\n",
      "-8952.45405836\n",
      "[[ 0.55100284]] [[ 0.40057407]] [[ 0.50670238]]\n",
      "-8843.60389464\n",
      "[[ 0.49594542]] [[ 0.35057426]] [[ 0.45509425]]\n",
      "-8731.54965131\n",
      "[[ 0.43626932]] [[ 0.30057435]] [[ 0.40242578]]\n",
      "-8620.45661281\n",
      "[[ 0.37164104]] [[ 0.25057444]] [[ 0.3491288]]\n",
      "-8519.86215932\n",
      "[[ 0.30162264]] [[ 0.20057454]] [[ 0.2958621]]\n",
      "-8449.65234506\n",
      "[[ 0.22579191]] [[ 0.15057464]] [[ 0.24387888]]\n",
      "-8438.17375232\n",
      "[[ 0.14456756]] [[ 0.10057474]] [[ 0.1962149]]\n",
      "-8388.72249724\n",
      "[[ 0.06493126]] [[ 0.05057483]] [[ 0.16242246]]\n",
      "-7044.914819\n",
      "[[ 0.00599637]] [[ 0.00057492]] [[ 0.15713819]]\n",
      "nan\n",
      "[[-0.10212364]] [[-0.11353033]] [[ 0.10855909]]\n",
      "nan\n",
      "[[-0.23970336]] [[-0.25032562]] [[ 0.07448618]]\n",
      "nan\n",
      "[[-0.3799978]] [[-0.39022148]] [[ 0.04661738]]\n",
      "nan\n",
      "[[-0.52322477]] [[-0.53317933]] [[ 0.01922118]]\n",
      "nan\n",
      "[[-0.66927654]] [[-0.6790273]] [[ 0.00023067]]\n",
      "nan\n",
      "[[-0.81798138]] [[-0.82756785]] [[-0.02885874]]\n",
      "nan\n",
      "[[ nan]] [[ nan]] [[ nan]]\n",
      "nan\n",
      "[[ nan]] [[ nan]] [[ nan]]\n",
      "nan\n",
      "[[ nan]] [[ nan]] [[ nan]]\n",
      "nan\n",
      "[[ nan]] [[ nan]] [[ nan]]\n"
     ]
    }
   ],
   "source": [
    "init = tf.global_variables_initializer()\n",
    "with tf.Session() as sess:\n",
    "    sess.run(init)\n",
    "    #tf_a = (sess.run([gr_alpha, minmzr], feed_dict={arrivals_tvar: np.nan_to_num(arrivals_numpy), mask_tvar:mask, ais_tvar:A_i, tdiff_tvar: tempdiff}))\n",
    "    for i in range(1000):\n",
    "        _, c, al, bt,m = (sess.run([minmzr, p3, alpha, beta, mu], feed_dict={arrivals_tvar: np.nan_to_num(events), mask_tvar:mask, temp_diff_tvar: temporal_diff, mask_tdiff_tvar:mask_tdiff}))\n",
    "        if not (i % 50):\n",
    "            print(c)\n",
    "            print(al, bt, m)\n",
    "    #tf_a, tf_b, tf_c, tf_d = (sess.run(p3, feed_dict={arrivals_tvar: np.nan_to_num(arrivals_numpy), mask_tvar:mask, ais_tvar:A_i, tdiff_tvar: tempdiff}))"
   ]
  },
  {
   "cell_type": "code",
   "execution_count": 19,
   "metadata": {},
   "outputs": [
    {
     "data": {
      "text/plain": [
       "<tf.Tensor 'alpha/read:0' shape=(1, 1) dtype=float64>"
      ]
     },
     "execution_count": 19,
     "metadata": {},
     "output_type": "execute_result"
    }
   ],
   "source": [
    "alpha.get_"
   ]
  },
  {
   "cell_type": "code",
   "execution_count": 17,
   "metadata": {},
   "outputs": [
    {
     "data": {
      "text/plain": [
       "array([ 406.00000167])"
      ]
     },
     "execution_count": 17,
     "metadata": {},
     "output_type": "execute_result"
    }
   ],
   "source": [
    "events[:, -1]"
   ]
  },
  {
   "cell_type": "code",
   "execution_count": null,
   "metadata": {},
   "outputs": [],
   "source": []
  }
 ],
 "metadata": {
  "kernelspec": {
   "display_name": "Python 3",
   "language": "python",
   "name": "python3"
  },
  "language_info": {
   "codemirror_mode": {
    "name": "ipython",
    "version": 3
   },
   "file_extension": ".py",
   "mimetype": "text/x-python",
   "name": "python",
   "nbconvert_exporter": "python",
   "pygments_lexer": "ipython3",
   "version": "3.6.1rc1"
  }
 },
 "nbformat": 4,
 "nbformat_minor": 2
}
